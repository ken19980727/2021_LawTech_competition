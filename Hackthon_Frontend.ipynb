{
 "cells": [
  {
   "cell_type": "code",
   "execution_count": 15,
   "id": "coordinated-spoke",
   "metadata": {},
   "outputs": [],
   "source": [
    "import torch\n",
    "from torch import nn\n",
    "import numpy as np\n",
    "from tqdm import tqdm\n",
    "import pandas as pd\n",
    "import os\n",
    "import json\n",
    "from sklearn.model_selection import KFold\n",
    "from sklearn.metrics import f1_score, classification_report\n",
    "import torch.nn.functional as F\n",
    "import re\n",
    "import shutil\n",
    "from ckip_transformers.nlp import CkipWordSegmenter, CkipPosTagger, CkipNerChunker\n",
    "import torch\n",
    "from flask import Flask, request\n",
    "from flask import render_template\n",
    "from flask_ngrok import run_with_ngrok\n",
    "ws_driver = CkipWordSegmenter(level=3,device=0)\n",
    "import random"
   ]
  },
  {
   "cell_type": "code",
   "execution_count": 16,
   "id": "alleged-government",
   "metadata": {},
   "outputs": [],
   "source": [
    "def setup_seed(seed):\n",
    "    torch.manual_seed(seed)\n",
    "    torch.cuda.manual_seed_all(seed)\n",
    "    np.random.seed(seed)\n",
    "    random.seed(seed)\n",
    "    torch.backends.cudnn.deterministic = True\n",
    "\n",
    "setup_seed(20)"
   ]
  },
  {
   "cell_type": "code",
   "execution_count": 17,
   "id": "durable-accused",
   "metadata": {},
   "outputs": [],
   "source": [
    "import torch\n",
    "import torch.nn as nn\n",
    "from torch.nn.utils.rnn import pack_padded_sequence, pad_packed_sequence, PackedSequence\n",
    "\n",
    "\n",
    "class HierarchialAttentionNetwork(nn.Module):\n",
    "    def __init__(self, n_classes, vocab_size, emb_size, word_rnn_size, sentence_rnn_size, word_rnn_layers,\n",
    "                 sentence_rnn_layers, word_att_size, sentence_att_size, dropout=0.5):\n",
    "        super(HierarchialAttentionNetwork, self).__init__()\n",
    "        self.sentence_attention = SentenceAttention(vocab_size, emb_size, word_rnn_size, sentence_rnn_size,\n",
    "                                                    word_rnn_layers, sentence_rnn_layers, word_att_size,\n",
    "                                                    sentence_att_size, dropout)\n",
    "\n",
    "        self.fc = nn.Linear(2 * sentence_rnn_size, n_classes)\n",
    "        self.softmax = nn.Softmax()\n",
    "        self.sigmoid = nn.Sigmoid()\n",
    "        \n",
    "        self.dropout = nn.Dropout(dropout)\n",
    "\n",
    "    def forward(self, documents, sentences_per_document, words_per_sentence):\n",
    "        document_embeddings, word_alphas, sentence_alphas = self.sentence_attention(documents, sentences_per_document,\n",
    "                                                                                    words_per_sentence)  \n",
    "        scores = self.sigmoid(self.fc(self.dropout(document_embeddings)) ) \n",
    "        \n",
    "        return scores, word_alphas, sentence_alphas\n",
    "\n",
    "\n",
    "class SentenceAttention(nn.Module):\n",
    "    def __init__(self, vocab_size, emb_size, word_rnn_size, sentence_rnn_size, word_rnn_layers, sentence_rnn_layers,\n",
    "                 word_att_size, sentence_att_size, dropout):\n",
    "        super(SentenceAttention, self).__init__()\n",
    "\n",
    "        self.word_attention = WordAttention(vocab_size, emb_size, word_rnn_size, word_rnn_layers, word_att_size,\n",
    "                                            dropout)\n",
    "\n",
    "        self.sentence_rnn = nn.GRU(2 * word_rnn_size, sentence_rnn_size, num_layers=sentence_rnn_layers,\n",
    "                                   bidirectional=True, dropout=dropout, batch_first=True)\n",
    "\n",
    "        self.sentence_attention = nn.Linear(2 * sentence_rnn_size, sentence_att_size)\n",
    "\n",
    "        self.sentence_context_vector = nn.Linear(sentence_att_size, 1,\n",
    "                                                 bias=False) \n",
    "\n",
    "        self.dropout = nn.Dropout(dropout)\n",
    "\n",
    "    def forward(self, documents, sentences_per_document, words_per_sentence):\n",
    "        packed_sentences = pack_padded_sequence(documents,\n",
    "                                                lengths=sentences_per_document.tolist(),\n",
    "                                                batch_first=True,\n",
    "                                                enforce_sorted=False) \n",
    "        packed_words_per_sentence = pack_padded_sequence(words_per_sentence,\n",
    "                                                         lengths=sentences_per_document.tolist(),\n",
    "                                                         batch_first=True,\n",
    "                                                         enforce_sorted=False)  \n",
    "        sentences, word_alphas = self.word_attention(packed_sentences.data,\n",
    "                                                     packed_words_per_sentence.data)  \n",
    "        \n",
    "        sentences = self.dropout(sentences)\n",
    "        \n",
    "        packed_sentences, _ = self.sentence_rnn(PackedSequence(data=sentences,\n",
    "                                                               batch_sizes=packed_sentences.batch_sizes,\n",
    "                                                               sorted_indices=packed_sentences.sorted_indices,\n",
    "                                                               unsorted_indices=packed_sentences.unsorted_indices))  \n",
    "        att_s = self.sentence_attention(packed_sentences.data)  \n",
    "        att_s = torch.tanh(att_s)  \n",
    "        \n",
    "        att_s = self.sentence_context_vector(att_s).squeeze(1)  \n",
    "\n",
    "        max_value = att_s.max()  \n",
    "        att_s = torch.exp(att_s - max_value) \n",
    "\n",
    "        att_s, _ = pad_packed_sequence(PackedSequence(data=att_s,\n",
    "                                                      batch_sizes=packed_sentences.batch_sizes,\n",
    "                                                      sorted_indices=packed_sentences.sorted_indices,\n",
    "                                                      unsorted_indices=packed_sentences.unsorted_indices),\n",
    "                                       batch_first=True)  # (n_documents, max(sentences_per_document))\n",
    "\n",
    "  \n",
    "        sentence_alphas = att_s / torch.sum(att_s, dim=1, keepdim=True)\n",
    "\n",
    "        documents, _ = pad_packed_sequence(packed_sentences,\n",
    "                                           batch_first=True)  \n",
    "        documents = documents * sentence_alphas.unsqueeze(2)  \n",
    "        documents = documents.sum(dim=1)\n",
    "        word_alphas, _ = pad_packed_sequence(PackedSequence(data=word_alphas,\n",
    "                                                            batch_sizes=packed_sentences.batch_sizes,\n",
    "                                                            sorted_indices=packed_sentences.sorted_indices,\n",
    "                                                            unsorted_indices=packed_sentences.unsorted_indices),\n",
    "                                             batch_first=True) \n",
    "        return documents, word_alphas, sentence_alphas\n",
    "\n",
    "\n",
    "class WordAttention(nn.Module):\n",
    "    def __init__(self, vocab_size, emb_size, word_rnn_size, word_rnn_layers, word_att_size, dropout):\n",
    "        super(WordAttention, self).__init__()\n",
    "\n",
    "        self.embeddings = nn.Embedding(vocab_size, emb_size)\n",
    "        self.word_rnn = nn.GRU(emb_size, word_rnn_size, num_layers=word_rnn_layers, bidirectional=True,\n",
    "                               dropout=dropout, batch_first=True)\n",
    "\n",
    "        self.word_attention = nn.Linear(2 * word_rnn_size, word_att_size)\n",
    "        self.word_context_vector = nn.Linear(word_att_size, 1, bias=False)\n",
    "\n",
    "        self.dropout = nn.Dropout(dropout)\n",
    "\n",
    "    def init_embeddings(self, embeddings):\n",
    "        self.embeddings.weight = nn.Parameter(embeddings)\n",
    "\n",
    "    def fine_tune_embeddings(self, fine_tune=False):\n",
    "        for p in self.embeddings.parameters():\n",
    "            p.requires_grad = fine_tune\n",
    "\n",
    "    def forward(self, sentences, words_per_sentence):\n",
    "        sentences = self.dropout(self.embeddings(sentences))\n",
    "        packed_words = pack_padded_sequence(sentences,\n",
    "                                            lengths=words_per_sentence.tolist(),\n",
    "                                            batch_first=True,\n",
    "                                            enforce_sorted=False) \n",
    "        # a PackedSequence object, where 'data' is the flattened words (n_words, word_emb)\n",
    "\n",
    "        packed_words, _ = self.word_rnn(packed_words)  \n",
    "        att_w = self.word_attention(packed_words.data)\n",
    "        att_w = torch.tanh(att_w) \n",
    "        att_w = self.word_context_vector(att_w).squeeze(1)  # (n_words)\n",
    "\n",
    "        max_value = att_w.max()  \n",
    "        att_w = torch.exp(att_w - max_value)  \n",
    "        \n",
    "        att_w, _ = pad_packed_sequence(PackedSequence(data=att_w,batch_sizes=packed_words.batch_sizes,\n",
    "                                    sorted_indices=packed_words.sorted_indices,\n",
    "                                    unsorted_indices=packed_words.unsorted_indices),\n",
    "                                       batch_first=True)\n",
    "        word_alphas = att_w / torch.sum(att_w, dim=1, keepdim=True) \n",
    "\n",
    "        sentences, _ = pad_packed_sequence(packed_words,\n",
    "                                           batch_first=True)  \n",
    "\n",
    "        sentences = sentences * word_alphas.unsqueeze(2) \n",
    "        sentences = sentences.sum(dim=1) \n",
    "\n",
    "        return sentences, word_alphas"
   ]
  },
  {
   "cell_type": "code",
   "execution_count": 18,
   "id": "younger-guatemala",
   "metadata": {},
   "outputs": [],
   "source": [
    "with open('fin_word.json', 'r', encoding='utf-8') as f:\n",
    "    word2idx = json.load(f)\n",
    "with open('fin_tag.json', 'r', encoding='utf-8') as f:\n",
    "    tag2idx = json.load(f)\n",
    "word2idx['<pad>'] = 0\n",
    "idx2word = {word2idx[w]:w for w in word2idx}\n",
    "idx2tag = {tag2idx[t]:t for t in tag2idx}\n",
    "def clean_str(string):\n",
    "    string = re.sub(r\"\\u3000\", \"\", string)\n",
    "    string = re.sub(r\"\\s{1,}\", \"\", string)\n",
    "    string = re.sub(r\"\\r\", \"\", string)\n",
    "    string = re.sub(r\"\\n\", \"\", string)\n",
    "    string = re.sub(r\"【[^【】]+】\",\"\",string)\n",
    "    string = re.sub(r\"（[^（）]+）\",\"\",string)\n",
    "    string = re.sub(r\"「[^「」]+」\",\"\",string)\n",
    "    string = re.sub(r\"\\([^\\(\\)]+\\)\",\"\",string)\n",
    "    if '審判長' in string:\n",
    "        string = string.split('審判長')[0]\n",
    "    else:\n",
    "        string = string.split('書記官')[0]\n",
    "    return string.strip()\n",
    "def collate_fn(bs_doc , bs_dlen , bs_slen , word_pad_idx,\n",
    "               word_limit = 40,sentence_limit=80):\n",
    "    max_sent_len = min(max(bs_slen) ,word_limit )\n",
    "    min_doc_len = min(sentence_limit , bs_dlen)\n",
    "    pad_doc = []\n",
    "    for sent in bs_doc:\n",
    "        if len(sent) > max_sent_len:\n",
    "            pad_doc.append(sent[:max_sent_len])\n",
    "        else:\n",
    "            pad_doc.append(sent + (max_sent_len-len(sent))*[word_pad_idx])\n",
    "    if len(pad_doc) > min_doc_len:\n",
    "        pad_doc = pad_doc[:min_doc_len]\n",
    "    bs_slen_p = []\n",
    "    for i in bs_slen:\n",
    "        if i > max_sent_len:\n",
    "            bs_slen_p.append(max_sent_len)\n",
    "            continue\n",
    "        bs_slen_p.append(i)\n",
    "    return torch.LongTensor([pad_doc]) ,torch.tensor([min_doc_len]), torch.LongTensor([bs_slen_p])\n",
    "def inp_len(x):\n",
    "    if len(x) > 0:\n",
    "        return x"
   ]
  },
  {
   "cell_type": "code",
   "execution_count": 19,
   "id": "iraqi-generator",
   "metadata": {
    "scrolled": true
   },
   "outputs": [],
   "source": [
    "def Do_all(text,pad_idx):\n",
    "    process_text = clean_str(text)\n",
    "    doc = []\n",
    "    for t in process_text.split('，'):\n",
    "        if '。' in t:\n",
    "            doc.extend(t.split('。'))\n",
    "        else:\n",
    "            doc.append(t)\n",
    "    doc = list(filter(inp_len,doc))\n",
    "    docs = [doc]\n",
    "    ws = ws_driver(doc)\n",
    "    doc_p = []\n",
    "    s_len = []\n",
    "    for voc in ws:\n",
    "        doc_p.append(voc)\n",
    "        s_len.append(len(voc))\n",
    "    d_len = len(doc_p)\n",
    "    docs_w2i = [list(map( lambda s:word2idx.get(s,word2idx['<unk>']) ,sent )) for sent in doc_p]\n",
    "    documents,sentences_per_document,words_per_sentence = collate_fn(docs_w2i , d_len ,s_len,pad_idx)\n",
    "    n_classes = len(tag2idx) \n",
    "    word_rnn_size = 100 \n",
    "    sentence_rnn_size = 100 \n",
    "    word_rnn_layers = 2  \n",
    "    sentence_rnn_layers = 2  \n",
    "    word_att_size = 200\n",
    "    sentence_att_size = 200  \n",
    "    dropout = 0.3\n",
    "    lr = 1e-3\n",
    "    with torch.no_grad():\n",
    "        model = HierarchialAttentionNetwork(n_classes=n_classes,\n",
    "                                            vocab_size=len(word2idx),\n",
    "                                            emb_size=300,\n",
    "                                            word_rnn_size=word_rnn_size,\n",
    "                                            sentence_rnn_size=sentence_rnn_size,\n",
    "                                            word_rnn_layers=word_rnn_layers,\n",
    "                                            sentence_rnn_layers=sentence_rnn_layers,\n",
    "                                            word_att_size=word_att_size,\n",
    "                                            sentence_att_size=sentence_att_size,\n",
    "                                            dropout=dropout)\n",
    "        model.load_state_dict(torch.load('legaltech_han_model.pt'))\n",
    "        scores, word_alphas, sentence_alphas = model(documents, sentences_per_document,\n",
    "                                                                     words_per_sentence)\n",
    "        predicts = ''\n",
    "        for idx,s in enumerate(scores[0]):\n",
    "            if s>0.5:\n",
    "                predicts += idx2tag[idx] + '|'\n",
    "        print(predicts)\n",
    "    return predicts[:-1]"
   ]
  },
  {
   "cell_type": "code",
   "execution_count": null,
   "id": "nasty-shell",
   "metadata": {
    "scrolled": true
   },
   "outputs": [
    {
     "name": "stdout",
     "output_type": "stream",
     "text": [
      " * Serving Flask app '__main__' (lazy loading)\n",
      " * Environment: production\n",
      "   WARNING: This is a development server. Do not use it in a production deployment.\n",
      "   Use a production WSGI server instead.\n",
      " * Debug mode: off\n"
     ]
    },
    {
     "name": "stderr",
     "output_type": "stream",
     "text": [
      " * Running on http://127.0.0.1:5000/ (Press CTRL+C to quit)\n",
      "127.0.0.1 - - [11/Sep/2021 22:36:41] \"GET / HTTP/1.1\" 200 -\n",
      "127.0.0.1 - - [11/Sep/2021 22:36:41] \"GET /static/css/nicepage.css HTTP/1.1\" 304 -\n",
      "127.0.0.1 - - [11/Sep/2021 22:36:41] \"GET /static/css/Page-1.css HTTP/1.1\" 304 -\n",
      "127.0.0.1 - - [11/Sep/2021 22:36:41] \"GET /static/css/bootstrap/bootstrap.css HTTP/1.1\" 304 -\n",
      "127.0.0.1 - - [11/Sep/2021 22:36:41] \"GET /static/images/desktop_top-banner.png HTTP/1.1\" 304 -\n",
      "127.0.0.1 - - [11/Sep/2021 22:36:41] \"GET /static/images/banner-bg.png HTTP/1.1\" 304 -\n"
     ]
    },
    {
     "name": "stdout",
     "output_type": "stream",
     "text": [
      " * Running on http://40e2-140-127-114-22.ngrok.io\n",
      " * Traffic stats available on http://127.0.0.1:4040\n"
     ]
    },
    {
     "name": "stderr",
     "output_type": "stream",
     "text": [
      "Tokenization: 100%|████████████████████████████████████████████████████████████████████████████| 10/10 [00:00<?, ?it/s]\n",
      "Inference: 100%|█████████████████████████████████████████████████████████████████████████| 1/1 [00:00<00:00, 32.31it/s]\n",
      "127.0.0.1 - - [11/Sep/2021 22:36:57] \"POST /submit HTTP/1.1\" 200 -\n",
      "127.0.0.1 - - [11/Sep/2021 22:36:57] \"GET /static/css/nicepage.css HTTP/1.1\" 304 -\n",
      "127.0.0.1 - - [11/Sep/2021 22:36:57] \"GET /static/css/Page-1.css HTTP/1.1\" 304 -\n",
      "127.0.0.1 - - [11/Sep/2021 22:36:57] \"GET /static/css/bootstrap/bootstrap.css HTTP/1.1\" 304 -\n",
      "127.0.0.1 - - [11/Sep/2021 22:36:57] \"GET /static/images/desktop_top-banner.png HTTP/1.1\" 304 -\n",
      "127.0.0.1 - - [11/Sep/2021 22:36:57] \"GET /static/images/banner-bg.png HTTP/1.1\" 304 -\n"
     ]
    },
    {
     "name": "stdout",
     "output_type": "stream",
     "text": [
      "刑事訴訟法220|刑事訴訟法449 2|\n",
      "刑事訴訟法220|刑事訴訟法449 2\n"
     ]
    },
    {
     "name": "stderr",
     "output_type": "stream",
     "text": [
      "Tokenization: 100%|█████████████████████████████████████████████████████████████████| 10/10 [00:00<00:00, 10310.48it/s]\n",
      "Inference: 100%|█████████████████████████████████████████████████████████████████████████| 1/1 [00:00<00:00, 85.25it/s]\n",
      "127.0.0.1 - - [11/Sep/2021 22:36:58] \"POST /submit HTTP/1.1\" 200 -\n",
      "127.0.0.1 - - [11/Sep/2021 22:36:58] \"GET /static/css/nicepage.css HTTP/1.1\" 304 -\n",
      "127.0.0.1 - - [11/Sep/2021 22:36:58] \"GET /static/css/Page-1.css HTTP/1.1\" 304 -\n",
      "127.0.0.1 - - [11/Sep/2021 22:36:58] \"GET /static/css/bootstrap/bootstrap.css HTTP/1.1\" 304 -\n",
      "127.0.0.1 - - [11/Sep/2021 22:36:58] \"GET /static/images/desktop_top-banner.png HTTP/1.1\" 304 -\n",
      "127.0.0.1 - - [11/Sep/2021 22:36:58] \"GET /static/images/banner-bg.png HTTP/1.1\" 304 -\n"
     ]
    },
    {
     "name": "stdout",
     "output_type": "stream",
     "text": [
      "刑事訴訟法220|刑事訴訟法449 2|\n",
      "刑事訴訟法220|刑事訴訟法449 2\n"
     ]
    },
    {
     "name": "stderr",
     "output_type": "stream",
     "text": [
      "Tokenization: 100%|████████████████████████████████████████████████████████████████████████████| 10/10 [00:00<?, ?it/s]\n",
      "Inference: 100%|█████████████████████████████████████████████████████████████████████████| 1/1 [00:00<00:00, 91.08it/s]\n",
      "127.0.0.1 - - [11/Sep/2021 22:36:58] \"POST /submit HTTP/1.1\" 200 -\n",
      "127.0.0.1 - - [11/Sep/2021 22:36:58] \"GET /static/css/nicepage.css HTTP/1.1\" 304 -\n",
      "127.0.0.1 - - [11/Sep/2021 22:36:58] \"GET /static/css/Page-1.css HTTP/1.1\" 304 -\n",
      "127.0.0.1 - - [11/Sep/2021 22:36:58] \"GET /static/css/bootstrap/bootstrap.css HTTP/1.1\" 304 -\n",
      "127.0.0.1 - - [11/Sep/2021 22:36:58] \"GET /static/images/desktop_top-banner.png HTTP/1.1\" 304 -\n",
      "127.0.0.1 - - [11/Sep/2021 22:36:58] \"GET /static/images/banner-bg.png HTTP/1.1\" 304 -\n"
     ]
    },
    {
     "name": "stdout",
     "output_type": "stream",
     "text": [
      "刑事訴訟法220|刑事訴訟法449 2|\n",
      "刑事訴訟法220|刑事訴訟法449 2\n"
     ]
    },
    {
     "name": "stderr",
     "output_type": "stream",
     "text": [
      "Tokenization: 100%|████████████████████████████████████████████████████████████████████████████| 10/10 [00:00<?, ?it/s]\n",
      "Inference: 100%|█████████████████████████████████████████████████████████████████████████| 1/1 [00:00<00:00, 83.36it/s]\n",
      "127.0.0.1 - - [11/Sep/2021 22:36:59] \"POST /submit HTTP/1.1\" 200 -\n",
      "127.0.0.1 - - [11/Sep/2021 22:36:59] \"GET /static/css/nicepage.css HTTP/1.1\" 304 -\n",
      "127.0.0.1 - - [11/Sep/2021 22:36:59] \"GET /static/css/Page-1.css HTTP/1.1\" 304 -\n",
      "127.0.0.1 - - [11/Sep/2021 22:36:59] \"GET /static/css/bootstrap/bootstrap.css HTTP/1.1\" 304 -\n",
      "127.0.0.1 - - [11/Sep/2021 22:36:59] \"GET /static/images/desktop_top-banner.png HTTP/1.1\" 304 -\n",
      "127.0.0.1 - - [11/Sep/2021 22:36:59] \"GET /static/images/banner-bg.png HTTP/1.1\" 304 -\n"
     ]
    },
    {
     "name": "stdout",
     "output_type": "stream",
     "text": [
      "刑事訴訟法220|刑事訴訟法449 2|\n",
      "刑事訴訟法220|刑事訴訟法449 2\n"
     ]
    },
    {
     "name": "stderr",
     "output_type": "stream",
     "text": [
      "Tokenization: 100%|████████████████████████████████████████████████████████████████████████████| 10/10 [00:00<?, ?it/s]\n",
      "Inference: 100%|█████████████████████████████████████████████████████████████████████████| 1/1 [00:00<00:00, 91.15it/s]\n",
      "127.0.0.1 - - [11/Sep/2021 22:36:59] \"POST /submit HTTP/1.1\" 200 -\n",
      "127.0.0.1 - - [11/Sep/2021 22:36:59] \"GET /static/css/nicepage.css HTTP/1.1\" 304 -\n",
      "127.0.0.1 - - [11/Sep/2021 22:36:59] \"GET /static/css/Page-1.css HTTP/1.1\" 304 -\n",
      "127.0.0.1 - - [11/Sep/2021 22:36:59] \"GET /static/css/bootstrap/bootstrap.css HTTP/1.1\" 304 -\n",
      "127.0.0.1 - - [11/Sep/2021 22:36:59] \"GET /static/images/desktop_top-banner.png HTTP/1.1\" 304 -\n",
      "127.0.0.1 - - [11/Sep/2021 22:36:59] \"GET /static/images/banner-bg.png HTTP/1.1\" 304 -\n"
     ]
    },
    {
     "name": "stdout",
     "output_type": "stream",
     "text": [
      "刑事訴訟法220|刑事訴訟法449 2|\n",
      "刑事訴訟法220|刑事訴訟法449 2\n"
     ]
    },
    {
     "name": "stderr",
     "output_type": "stream",
     "text": [
      "Tokenization: 100%|██████████████████████████████████████████████████████████████████████████████| 1/1 [00:00<?, ?it/s]\n",
      "Inference: 100%|█████████████████████████████████████████████████████████████████████████| 1/1 [00:00<00:00, 35.77it/s]\n",
      "127.0.0.1 - - [11/Sep/2021 22:37:57] \"POST /submit HTTP/1.1\" 200 -\n"
     ]
    },
    {
     "name": "stdout",
     "output_type": "stream",
     "text": [
      "\n",
      "\n"
     ]
    },
    {
     "name": "stderr",
     "output_type": "stream",
     "text": [
      "127.0.0.1 - - [11/Sep/2021 22:37:58] \"GET /static/css/nicepage.css HTTP/1.1\" 200 -\n",
      "127.0.0.1 - - [11/Sep/2021 22:37:58] \"GET /static/css/Page-1.css HTTP/1.1\" 200 -\n",
      "127.0.0.1 - - [11/Sep/2021 22:37:58] \"GET /static/css/bootstrap/bootstrap.css HTTP/1.1\" 200 -\n",
      "127.0.0.1 - - [11/Sep/2021 22:38:05] \"GET /static/images/desktop_top-banner.png HTTP/1.1\" 304 -\n",
      "127.0.0.1 - - [11/Sep/2021 22:38:05] \"GET /static/images/banner-bg.png HTTP/1.1\" 304 -\n",
      "127.0.0.1 - - [11/Sep/2021 22:38:07] \"GET / HTTP/1.1\" 200 -\n",
      "127.0.0.1 - - [11/Sep/2021 22:38:10] \"GET /static/css/Page-1.css HTTP/1.1\" 304 -\n",
      "127.0.0.1 - - [11/Sep/2021 22:38:10] \"GET /static/css/nicepage.css HTTP/1.1\" 206 -\n",
      "127.0.0.1 - - [11/Sep/2021 22:38:11] \"GET /static/css/bootstrap/bootstrap.css HTTP/1.1\" 304 -\n",
      "127.0.0.1 - - [11/Sep/2021 22:38:12] \"GET /static/css/nicepage.css HTTP/1.1\" 206 -\n",
      "127.0.0.1 - - [11/Sep/2021 22:38:17] \"GET /static/images/desktop_top-banner.png HTTP/1.1\" 304 -\n",
      "127.0.0.1 - - [11/Sep/2021 22:38:17] \"GET /static/images/banner-bg.png HTTP/1.1\" 304 -\n",
      "127.0.0.1 - - [11/Sep/2021 22:38:18] \"GET /static/images/images-removebg-preview.ico HTTP/1.1\" 304 -\n",
      "Tokenization: 100%|████████████████████████████████████████████████████████████████████████████| 15/15 [00:00<?, ?it/s]\n",
      "Inference: 100%|█████████████████████████████████████████████████████████████████████████| 1/1 [00:00<00:00, 33.90it/s]\n",
      "127.0.0.1 - - [11/Sep/2021 22:38:41] \"POST /submit HTTP/1.1\" 200 -\n"
     ]
    },
    {
     "name": "stdout",
     "output_type": "stream",
     "text": [
      "民事訴訟法77-16 1|民事訴訟法442 2|\n",
      "民事訴訟法77-16 1|民事訴訟法442 2\n"
     ]
    },
    {
     "name": "stderr",
     "output_type": "stream",
     "text": [
      "127.0.0.1 - - [11/Sep/2021 22:38:42] \"GET /static/css/Page-1.css HTTP/1.1\" 304 -\n",
      "127.0.0.1 - - [11/Sep/2021 22:38:42] \"GET /static/css/nicepage.css HTTP/1.1\" 304 -\n",
      "127.0.0.1 - - [11/Sep/2021 22:38:42] \"GET /static/css/bootstrap/bootstrap.css HTTP/1.1\" 304 -\n",
      "127.0.0.1 - - [11/Sep/2021 22:38:43] \"GET /static/images/desktop_top-banner.png HTTP/1.1\" 304 -\n",
      "127.0.0.1 - - [11/Sep/2021 22:38:43] \"GET /static/images/banner-bg.png HTTP/1.1\" 304 -\n",
      "Tokenization: 100%|████████████████████████████████████████████████████████████████████████████| 15/15 [00:00<?, ?it/s]\n",
      "Inference: 100%|█████████████████████████████████████████████████████████████████████████| 1/1 [00:00<00:00, 73.79it/s]\n",
      "127.0.0.1 - - [11/Sep/2021 22:38:47] \"POST /submit HTTP/1.1\" 200 -\n"
     ]
    },
    {
     "name": "stdout",
     "output_type": "stream",
     "text": [
      "民事訴訟法77-16 1|\n",
      "民事訴訟法77-16 1\n"
     ]
    },
    {
     "name": "stderr",
     "output_type": "stream",
     "text": [
      "127.0.0.1 - - [11/Sep/2021 22:38:47] \"GET /static/css/Page-1.css HTTP/1.1\" 304 -\n",
      "127.0.0.1 - - [11/Sep/2021 22:38:47] \"GET /static/css/nicepage.css HTTP/1.1\" 304 -\n",
      "127.0.0.1 - - [11/Sep/2021 22:38:48] \"GET /static/css/bootstrap/bootstrap.css HTTP/1.1\" 304 -\n",
      "Tokenization: 100%|████████████████████████████████████████████████████████████████████████████| 15/15 [00:00<?, ?it/s]\n",
      "Inference: 100%|█████████████████████████████████████████████████████████████████████████| 1/1 [00:00<00:00, 80.02it/s]\n",
      "127.0.0.1 - - [11/Sep/2021 22:38:50] \"POST /submit HTTP/1.1\" 200 -\n"
     ]
    },
    {
     "name": "stdout",
     "output_type": "stream",
     "text": [
      "民事訴訟法77-16 1|\n",
      "民事訴訟法77-16 1\n"
     ]
    },
    {
     "name": "stderr",
     "output_type": "stream",
     "text": [
      "127.0.0.1 - - [11/Sep/2021 22:38:51] \"GET /static/css/nicepage.css HTTP/1.1\" 304 -\n",
      "127.0.0.1 - - [11/Sep/2021 22:38:51] \"GET /static/css/bootstrap/bootstrap.css HTTP/1.1\" 304 -\n",
      "127.0.0.1 - - [11/Sep/2021 22:38:51] \"GET /static/css/Page-1.css HTTP/1.1\" 304 -\n",
      "Tokenization: 100%|████████████████████████████████████████████████████████████████████████████| 15/15 [00:00<?, ?it/s]\n",
      "Inference: 100%|█████████████████████████████████████████████████████████████████████████| 1/1 [00:00<00:00, 83.50it/s]\n",
      "127.0.0.1 - - [11/Sep/2021 22:38:53] \"POST /submit HTTP/1.1\" 200 -\n"
     ]
    },
    {
     "name": "stdout",
     "output_type": "stream",
     "text": [
      "民事訴訟法77-16 1|民事訴訟法442 2|\n",
      "民事訴訟法77-16 1|民事訴訟法442 2\n"
     ]
    },
    {
     "name": "stderr",
     "output_type": "stream",
     "text": [
      "127.0.0.1 - - [11/Sep/2021 22:38:54] \"GET /static/css/bootstrap/bootstrap.css HTTP/1.1\" 304 -\n",
      "127.0.0.1 - - [11/Sep/2021 22:38:54] \"GET /static/css/nicepage.css HTTP/1.1\" 304 -\n",
      "127.0.0.1 - - [11/Sep/2021 22:38:54] \"GET /static/css/Page-1.css HTTP/1.1\" 304 -\n",
      "Tokenization: 100%|████████████████████████████████████████████████████████████████████████████| 15/15 [00:00<?, ?it/s]\n",
      "Inference: 100%|█████████████████████████████████████████████████████████████████████████| 1/1 [00:00<00:00, 83.56it/s]\n",
      "127.0.0.1 - - [11/Sep/2021 22:38:57] \"POST /submit HTTP/1.1\" 200 -\n"
     ]
    },
    {
     "name": "stdout",
     "output_type": "stream",
     "text": [
      "\n",
      "\n"
     ]
    },
    {
     "name": "stderr",
     "output_type": "stream",
     "text": [
      "127.0.0.1 - - [11/Sep/2021 22:38:58] \"GET /static/css/bootstrap/bootstrap.css HTTP/1.1\" 304 -\n",
      "127.0.0.1 - - [11/Sep/2021 22:38:58] \"GET /static/css/nicepage.css HTTP/1.1\" 304 -\n",
      "127.0.0.1 - - [11/Sep/2021 22:38:58] \"GET /static/css/Page-1.css HTTP/1.1\" 304 -\n",
      "Tokenization: 100%|█████████████████████████████████████████████████████████████████| 15/15 [00:00<00:00, 15040.54it/s]\n",
      "Inference: 100%|█████████████████████████████████████████████████████████████████████████| 1/1 [00:00<00:00, 91.21it/s]\n",
      "127.0.0.1 - - [11/Sep/2021 22:39:01] \"POST /submit HTTP/1.1\" 200 -\n"
     ]
    },
    {
     "name": "stdout",
     "output_type": "stream",
     "text": [
      "民事訴訟法77-16 1|民事訴訟法442 2|\n",
      "民事訴訟法77-16 1|民事訴訟法442 2\n"
     ]
    },
    {
     "name": "stderr",
     "output_type": "stream",
     "text": [
      "127.0.0.1 - - [11/Sep/2021 22:39:02] \"GET /static/css/Page-1.css HTTP/1.1\" 304 -\n",
      "127.0.0.1 - - [11/Sep/2021 22:39:02] \"GET /static/css/bootstrap/bootstrap.css HTTP/1.1\" 304 -\n",
      "127.0.0.1 - - [11/Sep/2021 22:39:02] \"GET /static/css/nicepage.css HTTP/1.1\" 304 -\n",
      "Tokenization: 100%|█████████████████████████████████████████████████████████████████| 15/15 [00:00<00:00, 15044.13it/s]\n",
      "Inference: 100%|█████████████████████████████████████████████████████████████████████████| 1/1 [00:00<00:00, 83.66it/s]\n",
      "127.0.0.1 - - [11/Sep/2021 22:39:04] \"POST /submit HTTP/1.1\" 200 -\n"
     ]
    },
    {
     "name": "stdout",
     "output_type": "stream",
     "text": [
      "民事訴訟法77-16 1|\n",
      "民事訴訟法77-16 1\n"
     ]
    },
    {
     "name": "stderr",
     "output_type": "stream",
     "text": [
      "127.0.0.1 - - [11/Sep/2021 22:39:05] \"GET /static/css/bootstrap/bootstrap.css HTTP/1.1\" 304 -\n",
      "127.0.0.1 - - [11/Sep/2021 22:39:05] \"GET /static/css/nicepage.css HTTP/1.1\" 304 -\n",
      "127.0.0.1 - - [11/Sep/2021 22:39:05] \"GET /static/css/Page-1.css HTTP/1.1\" 304 -\n",
      "Tokenization: 100%|█████████████████████████████████████████████████████████████████| 15/15 [00:00<00:00, 15040.54it/s]\n",
      "Inference: 100%|█████████████████████████████████████████████████████████████████████████| 1/1 [00:00<00:00, 83.37it/s]\n",
      "127.0.0.1 - - [11/Sep/2021 22:39:07] \"POST /submit HTTP/1.1\" 200 -\n"
     ]
    },
    {
     "name": "stdout",
     "output_type": "stream",
     "text": [
      "民事訴訟法77-16 1|\n",
      "民事訴訟法77-16 1\n"
     ]
    },
    {
     "name": "stderr",
     "output_type": "stream",
     "text": [
      "127.0.0.1 - - [11/Sep/2021 22:39:07] \"GET /static/css/Page-1.css HTTP/1.1\" 304 -\n",
      "127.0.0.1 - - [11/Sep/2021 22:39:07] \"GET /static/css/nicepage.css HTTP/1.1\" 304 -\n",
      "127.0.0.1 - - [11/Sep/2021 22:39:07] \"GET /static/css/bootstrap/bootstrap.css HTTP/1.1\" 304 -\n",
      "127.0.0.1 - - [11/Sep/2021 22:39:54] \"GET /static/css/nicepage.css HTTP/1.1\" 304 -\n",
      "127.0.0.1 - - [11/Sep/2021 22:39:54] \"GET /static/css/Page-1.css HTTP/1.1\" 304 -\n",
      "127.0.0.1 - - [11/Sep/2021 22:39:54] \"GET /static/css/bootstrap/bootstrap.css HTTP/1.1\" 304 -\n",
      "127.0.0.1 - - [11/Sep/2021 22:39:55] \"GET /static/css/bootstrap/bootstrap.css.map HTTP/1.1\" 200 -\n",
      "Tokenization: 100%|████████████████████████████████████████████████████████████████████████████| 10/10 [00:00<?, ?it/s]\n",
      "Inference: 100%|█████████████████████████████████████████████████████████████████████████| 1/1 [00:00<00:00, 45.52it/s]\n",
      "127.0.0.1 - - [11/Sep/2021 22:47:15] \"POST /submit HTTP/1.1\" 200 -\n",
      "127.0.0.1 - - [11/Sep/2021 22:47:15] \"GET /static/css/nicepage.css HTTP/1.1\" 304 -\n",
      "127.0.0.1 - - [11/Sep/2021 22:47:15] \"GET /static/css/bootstrap/bootstrap.css HTTP/1.1\" 304 -\n",
      "127.0.0.1 - - [11/Sep/2021 22:47:15] \"GET /static/css/Page-1.css HTTP/1.1\" 304 -\n",
      "127.0.0.1 - - [11/Sep/2021 22:47:15] \"GET /static/images/banner-bg.png HTTP/1.1\" 304 -\n",
      "127.0.0.1 - - [11/Sep/2021 22:47:15] \"GET /static/images/desktop_top-banner.png HTTP/1.1\" 304 -\n"
     ]
    },
    {
     "name": "stdout",
     "output_type": "stream",
     "text": [
      "刑事訴訟法220|刑事訴訟法449 2|\n",
      "刑事訴訟法220|刑事訴訟法449 2\n"
     ]
    },
    {
     "name": "stderr",
     "output_type": "stream",
     "text": [
      "Tokenization: 100%|████████████████████████████████████████████████████████████████████████████| 10/10 [00:00<?, ?it/s]\n",
      "Inference: 100%|█████████████████████████████████████████████████████████████████████████| 1/1 [00:00<00:00, 77.10it/s]\n",
      "127.0.0.1 - - [11/Sep/2021 22:47:15] \"POST /submit HTTP/1.1\" 200 -\n",
      "127.0.0.1 - - [11/Sep/2021 22:47:15] \"GET /static/css/nicepage.css HTTP/1.1\" 304 -\n",
      "127.0.0.1 - - [11/Sep/2021 22:47:15] \"GET /static/css/Page-1.css HTTP/1.1\" 304 -\n",
      "127.0.0.1 - - [11/Sep/2021 22:47:15] \"GET /static/css/bootstrap/bootstrap.css HTTP/1.1\" 304 -\n",
      "127.0.0.1 - - [11/Sep/2021 22:47:15] \"GET /static/images/desktop_top-banner.png HTTP/1.1\" 304 -\n",
      "127.0.0.1 - - [11/Sep/2021 22:47:15] \"GET /static/images/banner-bg.png HTTP/1.1\" 304 -\n"
     ]
    },
    {
     "name": "stdout",
     "output_type": "stream",
     "text": [
      "刑事訴訟法220|刑事訴訟法449 2|\n",
      "刑事訴訟法220|刑事訴訟法449 2\n"
     ]
    },
    {
     "name": "stderr",
     "output_type": "stream",
     "text": [
      "Tokenization: 100%|████████████████████████████████████████████████████████████████████████████| 10/10 [00:00<?, ?it/s]\n",
      "Inference: 100%|█████████████████████████████████████████████████████████████████████████| 1/1 [00:00<00:00, 90.66it/s]\n",
      "127.0.0.1 - - [11/Sep/2021 22:47:16] \"POST /submit HTTP/1.1\" 200 -\n",
      "127.0.0.1 - - [11/Sep/2021 22:47:16] \"GET /static/css/nicepage.css HTTP/1.1\" 304 -\n",
      "127.0.0.1 - - [11/Sep/2021 22:47:16] \"GET /static/css/Page-1.css HTTP/1.1\" 304 -\n",
      "127.0.0.1 - - [11/Sep/2021 22:47:16] \"GET /static/css/bootstrap/bootstrap.css HTTP/1.1\" 304 -\n",
      "127.0.0.1 - - [11/Sep/2021 22:47:16] \"GET /static/images/desktop_top-banner.png HTTP/1.1\" 304 -\n",
      "127.0.0.1 - - [11/Sep/2021 22:47:16] \"GET /static/images/banner-bg.png HTTP/1.1\" 304 -\n"
     ]
    },
    {
     "name": "stdout",
     "output_type": "stream",
     "text": [
      "刑事訴訟法220|刑事訴訟法449 2|\n",
      "刑事訴訟法220|刑事訴訟法449 2\n"
     ]
    },
    {
     "name": "stderr",
     "output_type": "stream",
     "text": [
      "Tokenization: 100%|█████████████████████████████████████████████████████████████████| 10/10 [00:00<00:00, 10027.02it/s]\n",
      "Inference: 100%|█████████████████████████████████████████████████████████████████████████| 1/1 [00:00<00:00, 90.95it/s]\n",
      "127.0.0.1 - - [11/Sep/2021 22:47:16] \"POST /submit HTTP/1.1\" 200 -\n",
      "127.0.0.1 - - [11/Sep/2021 22:47:16] \"GET /static/css/nicepage.css HTTP/1.1\" 304 -\n",
      "127.0.0.1 - - [11/Sep/2021 22:47:16] \"GET /static/css/Page-1.css HTTP/1.1\" 304 -\n",
      "127.0.0.1 - - [11/Sep/2021 22:47:16] \"GET /static/css/bootstrap/bootstrap.css HTTP/1.1\" 304 -\n",
      "127.0.0.1 - - [11/Sep/2021 22:47:16] \"GET /static/images/desktop_top-banner.png HTTP/1.1\" 304 -\n",
      "127.0.0.1 - - [11/Sep/2021 22:47:16] \"GET /static/images/banner-bg.png HTTP/1.1\" 304 -\n"
     ]
    },
    {
     "name": "stdout",
     "output_type": "stream",
     "text": [
      "刑事訴訟法220|刑事訴訟法449 2|\n",
      "刑事訴訟法220|刑事訴訟法449 2\n"
     ]
    },
    {
     "name": "stderr",
     "output_type": "stream",
     "text": [
      "Tokenization: 100%|█████████████████████████████████████████████████████████████████| 10/10 [00:00<00:00, 19728.62it/s]\n",
      "Inference: 100%|█████████████████████████████████████████████████████████████████████████| 1/1 [00:00<00:00, 77.02it/s]\n",
      "127.0.0.1 - - [11/Sep/2021 22:47:21] \"POST /submit HTTP/1.1\" 200 -\n",
      "127.0.0.1 - - [11/Sep/2021 22:47:21] \"GET /static/css/nicepage.css HTTP/1.1\" 304 -\n",
      "127.0.0.1 - - [11/Sep/2021 22:47:21] \"GET /static/css/Page-1.css HTTP/1.1\" 304 -\n",
      "127.0.0.1 - - [11/Sep/2021 22:47:21] \"GET /static/css/bootstrap/bootstrap.css HTTP/1.1\" 304 -\n"
     ]
    },
    {
     "name": "stdout",
     "output_type": "stream",
     "text": [
      "刑事訴訟法220|刑事訴訟法449 2|\n",
      "刑事訴訟法220|刑事訴訟法449 2\n"
     ]
    },
    {
     "name": "stderr",
     "output_type": "stream",
     "text": [
      "Tokenization: 100%|██████████████████████████████████████████████████████████████████| 10/10 [00:00<00:00, 9571.67it/s]\n",
      "Inference: 100%|█████████████████████████████████████████████████████████████████████████| 1/1 [00:00<00:00, 83.49it/s]\n",
      "127.0.0.1 - - [11/Sep/2021 22:47:21] \"POST /submit HTTP/1.1\" 200 -\n",
      "127.0.0.1 - - [11/Sep/2021 22:47:21] \"GET /static/css/nicepage.css HTTP/1.1\" 304 -\n",
      "127.0.0.1 - - [11/Sep/2021 22:47:21] \"GET /static/css/Page-1.css HTTP/1.1\" 304 -\n",
      "127.0.0.1 - - [11/Sep/2021 22:47:21] \"GET /static/css/bootstrap/bootstrap.css HTTP/1.1\" 304 -\n"
     ]
    },
    {
     "name": "stdout",
     "output_type": "stream",
     "text": [
      "刑事訴訟法220|刑事訴訟法449 2|\n",
      "刑事訴訟法220|刑事訴訟法449 2\n"
     ]
    },
    {
     "name": "stderr",
     "output_type": "stream",
     "text": [
      "Tokenization: 100%|████████████████████████████████████████████████████████████████████████████| 10/10 [00:00<?, ?it/s]\n",
      "Inference: 100%|█████████████████████████████████████████████████████████████████████████| 1/1 [00:00<00:00, 90.92it/s]\n",
      "127.0.0.1 - - [11/Sep/2021 22:47:22] \"POST /submit HTTP/1.1\" 200 -\n",
      "127.0.0.1 - - [11/Sep/2021 22:47:22] \"GET /static/css/nicepage.css HTTP/1.1\" 304 -\n",
      "127.0.0.1 - - [11/Sep/2021 22:47:22] \"GET /static/css/Page-1.css HTTP/1.1\" 304 -\n",
      "127.0.0.1 - - [11/Sep/2021 22:47:22] \"GET /static/css/bootstrap/bootstrap.css HTTP/1.1\" 304 -\n"
     ]
    },
    {
     "name": "stdout",
     "output_type": "stream",
     "text": [
      "刑事訴訟法220|刑事訴訟法449 2|\n",
      "刑事訴訟法220|刑事訴訟法449 2\n"
     ]
    },
    {
     "name": "stderr",
     "output_type": "stream",
     "text": [
      "Tokenization: 100%|████████████████████████████████████████████████████████████████████████████| 10/10 [00:00<?, ?it/s]\n",
      "Inference: 100%|█████████████████████████████████████████████████████████████████████████| 1/1 [00:00<00:00, 83.63it/s]\n",
      "127.0.0.1 - - [11/Sep/2021 22:47:22] \"POST /submit HTTP/1.1\" 200 -\n",
      "127.0.0.1 - - [11/Sep/2021 22:47:22] \"GET /static/css/nicepage.css HTTP/1.1\" 304 -\n",
      "127.0.0.1 - - [11/Sep/2021 22:47:22] \"GET /static/css/Page-1.css HTTP/1.1\" 304 -\n",
      "127.0.0.1 - - [11/Sep/2021 22:47:22] \"GET /static/css/bootstrap/bootstrap.css HTTP/1.1\" 304 -\n"
     ]
    },
    {
     "name": "stdout",
     "output_type": "stream",
     "text": [
      "刑事訴訟法220|刑事訴訟法449 2|\n",
      "刑事訴訟法220|刑事訴訟法449 2\n"
     ]
    },
    {
     "name": "stderr",
     "output_type": "stream",
     "text": [
      "Tokenization: 100%|████████████████████████████████████████████████████████████████████████████| 10/10 [00:00<?, ?it/s]\n",
      "Inference: 100%|█████████████████████████████████████████████████████████████████████████| 1/1 [00:00<00:00, 71.49it/s]\n",
      "127.0.0.1 - - [11/Sep/2021 22:47:23] \"POST /submit HTTP/1.1\" 200 -\n",
      "127.0.0.1 - - [11/Sep/2021 22:47:23] \"GET /static/css/nicepage.css HTTP/1.1\" 304 -\n",
      "127.0.0.1 - - [11/Sep/2021 22:47:23] \"GET /static/css/Page-1.css HTTP/1.1\" 304 -\n",
      "127.0.0.1 - - [11/Sep/2021 22:47:23] \"GET /static/css/bootstrap/bootstrap.css HTTP/1.1\" 304 -\n"
     ]
    },
    {
     "name": "stdout",
     "output_type": "stream",
     "text": [
      "刑事訴訟法220|刑事訴訟法449 2|\n",
      "刑事訴訟法220|刑事訴訟法449 2\n"
     ]
    },
    {
     "name": "stderr",
     "output_type": "stream",
     "text": [
      "Tokenization: 100%|█████████████████████████████████████████████████████████████████| 10/10 [00:00<00:00, 10063.11it/s]\n",
      "Inference: 100%|█████████████████████████████████████████████████████████████████████████| 1/1 [00:00<00:00, 77.14it/s]\n",
      "127.0.0.1 - - [11/Sep/2021 22:47:23] \"POST /submit HTTP/1.1\" 200 -\n",
      "127.0.0.1 - - [11/Sep/2021 22:47:23] \"GET /static/css/nicepage.css HTTP/1.1\" 304 -\n",
      "127.0.0.1 - - [11/Sep/2021 22:47:23] \"GET /static/css/Page-1.css HTTP/1.1\" 304 -\n",
      "127.0.0.1 - - [11/Sep/2021 22:47:23] \"GET /static/css/bootstrap/bootstrap.css HTTP/1.1\" 304 -\n"
     ]
    },
    {
     "name": "stdout",
     "output_type": "stream",
     "text": [
      "刑事訴訟法220|刑事訴訟法449 2|\n",
      "刑事訴訟法220|刑事訴訟法449 2\n"
     ]
    },
    {
     "name": "stderr",
     "output_type": "stream",
     "text": [
      "Tokenization: 100%|████████████████████████████████████████████████████████████████████████████| 10/10 [00:00<?, ?it/s]\n",
      "Inference: 100%|█████████████████████████████████████████████████████████████████████████| 1/1 [00:00<00:00, 83.55it/s]\n",
      "127.0.0.1 - - [11/Sep/2021 22:47:24] \"POST /submit HTTP/1.1\" 200 -\n",
      "127.0.0.1 - - [11/Sep/2021 22:47:24] \"GET /static/css/nicepage.css HTTP/1.1\" 304 -\n",
      "127.0.0.1 - - [11/Sep/2021 22:47:24] \"GET /static/css/Page-1.css HTTP/1.1\" 304 -\n",
      "127.0.0.1 - - [11/Sep/2021 22:47:24] \"GET /static/css/bootstrap/bootstrap.css HTTP/1.1\" 304 -\n"
     ]
    },
    {
     "name": "stdout",
     "output_type": "stream",
     "text": [
      "刑事訴訟法220|刑事訴訟法449 2|\n",
      "刑事訴訟法220|刑事訴訟法449 2\n"
     ]
    },
    {
     "name": "stderr",
     "output_type": "stream",
     "text": [
      "Tokenization: 100%|█████████████████████████████████████████████████████████████████| 10/10 [00:00<00:00, 10022.23it/s]\n",
      "Inference: 100%|█████████████████████████████████████████████████████████████████████████| 1/1 [00:00<00:00, 83.56it/s]\n",
      "127.0.0.1 - - [11/Sep/2021 22:47:24] \"POST /submit HTTP/1.1\" 200 -\n",
      "127.0.0.1 - - [11/Sep/2021 22:47:24] \"GET /static/css/nicepage.css HTTP/1.1\" 304 -\n",
      "127.0.0.1 - - [11/Sep/2021 22:47:24] \"GET /static/css/Page-1.css HTTP/1.1\" 304 -\n",
      "127.0.0.1 - - [11/Sep/2021 22:47:24] \"GET /static/css/bootstrap/bootstrap.css HTTP/1.1\" 304 -\n"
     ]
    },
    {
     "name": "stdout",
     "output_type": "stream",
     "text": [
      "刑事訴訟法220|刑事訴訟法449 2|\n",
      "刑事訴訟法220|刑事訴訟法449 2\n"
     ]
    },
    {
     "name": "stderr",
     "output_type": "stream",
     "text": [
      "Tokenization: 100%|████████████████████████████████████████████████████████████████████| 9/9 [00:00<00:00, 9126.87it/s]\n",
      "Inference: 100%|█████████████████████████████████████████████████████████████████████████| 1/1 [00:00<00:00, 41.73it/s]\n",
      "127.0.0.1 - - [11/Sep/2021 22:54:04] \"POST /submit HTTP/1.1\" 200 -\n"
     ]
    },
    {
     "name": "stdout",
     "output_type": "stream",
     "text": [
      "\n",
      "\n"
     ]
    },
    {
     "name": "stderr",
     "output_type": "stream",
     "text": [
      "127.0.0.1 - - [11/Sep/2021 22:54:05] \"GET /static/css/nicepage.css HTTP/1.1\" 304 -\n",
      "127.0.0.1 - - [11/Sep/2021 22:54:05] \"GET /static/css/bootstrap/bootstrap.css HTTP/1.1\" 304 -\n",
      "127.0.0.1 - - [11/Sep/2021 22:54:05] \"GET /static/css/Page-1.css HTTP/1.1\" 304 -\n",
      "127.0.0.1 - - [11/Sep/2021 22:54:06] \"GET /static/images/desktop_top-banner.png HTTP/1.1\" 304 -\n",
      "127.0.0.1 - - [11/Sep/2021 22:54:06] \"GET /static/images/banner-bg.png HTTP/1.1\" 304 -\n",
      "Tokenization: 100%|██████████████████████████████████████████████████████████████████████████████| 9/9 [00:00<?, ?it/s]\n",
      "Inference: 100%|█████████████████████████████████████████████████████████████████████████| 1/1 [00:00<00:00, 51.15it/s]\n",
      "127.0.0.1 - - [11/Sep/2021 22:54:47] \"POST /submit HTTP/1.1\" 200 -\n"
     ]
    },
    {
     "name": "stdout",
     "output_type": "stream",
     "text": [
      "\n",
      "\n"
     ]
    },
    {
     "name": "stderr",
     "output_type": "stream",
     "text": [
      "127.0.0.1 - - [11/Sep/2021 22:54:48] \"GET /static/css/nicepage.css HTTP/1.1\" 304 -\n",
      "127.0.0.1 - - [11/Sep/2021 22:54:48] \"GET /static/css/bootstrap/bootstrap.css HTTP/1.1\" 304 -\n",
      "127.0.0.1 - - [11/Sep/2021 22:54:48] \"GET /static/css/Page-1.css HTTP/1.1\" 304 -\n",
      "127.0.0.1 - - [11/Sep/2021 22:54:49] \"GET /static/images/banner-bg.png HTTP/1.1\" 304 -\n",
      "127.0.0.1 - - [11/Sep/2021 22:54:49] \"GET /static/images/desktop_top-banner.png HTTP/1.1\" 304 -\n",
      "Tokenization: 100%|██████████████████████████████████████████████████████████████████████████████| 9/9 [00:00<?, ?it/s]\n",
      "Inference: 100%|█████████████████████████████████████████████████████████████████████████| 1/1 [00:00<00:00, 94.76it/s]\n",
      "127.0.0.1 - - [11/Sep/2021 22:54:54] \"POST /submit HTTP/1.1\" 200 -\n"
     ]
    },
    {
     "name": "stdout",
     "output_type": "stream",
     "text": [
      "\n",
      "\n"
     ]
    },
    {
     "name": "stderr",
     "output_type": "stream",
     "text": [
      "127.0.0.1 - - [11/Sep/2021 22:54:55] \"GET /static/css/Page-1.css HTTP/1.1\" 304 -\n",
      "127.0.0.1 - - [11/Sep/2021 22:54:55] \"GET /static/css/bootstrap/bootstrap.css HTTP/1.1\" 304 -\n",
      "127.0.0.1 - - [11/Sep/2021 22:54:55] \"GET /static/css/nicepage.css HTTP/1.1\" 304 -\n",
      "127.0.0.1 - - [11/Sep/2021 22:57:46] \"GET /static/css/nicepage.css HTTP/1.1\" 304 -\n",
      "127.0.0.1 - - [11/Sep/2021 22:57:46] \"GET /static/css/bootstrap/bootstrap.css HTTP/1.1\" 304 -\n",
      "127.0.0.1 - - [11/Sep/2021 22:57:46] \"GET /static/css/Page-1.css HTTP/1.1\" 304 -\n",
      "127.0.0.1 - - [11/Sep/2021 22:57:47] \"GET /static/css/bootstrap/bootstrap.css.map HTTP/1.1\" 200 -\n",
      "Tokenization: 100%|█████████████████████████████████████████████████████████████████| 19/19 [00:00<00:00, 19051.34it/s]\n",
      "Inference: 100%|█████████████████████████████████████████████████████████████████████████| 1/1 [00:00<00:00, 27.43it/s]\n",
      "127.0.0.1 - - [11/Sep/2021 23:50:28] \"POST /submit HTTP/1.1\" 200 -\n"
     ]
    },
    {
     "name": "stdout",
     "output_type": "stream",
     "text": [
      "\n",
      "\n"
     ]
    },
    {
     "name": "stderr",
     "output_type": "stream",
     "text": [
      "127.0.0.1 - - [11/Sep/2021 23:50:29] \"GET /static/css/bootstrap/bootstrap.css HTTP/1.1\" 304 -\n",
      "127.0.0.1 - - [11/Sep/2021 23:50:29] \"GET /static/css/Page-1.css HTTP/1.1\" 304 -\n",
      "127.0.0.1 - - [11/Sep/2021 23:50:29] \"GET /static/css/nicepage.css HTTP/1.1\" 304 -\n",
      "127.0.0.1 - - [11/Sep/2021 23:50:30] \"GET /static/images/banner-bg.png HTTP/1.1\" 304 -\n",
      "127.0.0.1 - - [11/Sep/2021 23:50:30] \"GET /static/images/desktop_top-banner.png HTTP/1.1\" 304 -\n",
      "127.0.0.1 - - [12/Sep/2021 14:56:08] \"GET / HTTP/1.1\" 200 -\n",
      "127.0.0.1 - - [12/Sep/2021 14:56:09] \"GET /static/css/bootstrap/bootstrap.css HTTP/1.1\" 304 -\n",
      "127.0.0.1 - - [12/Sep/2021 14:56:09] \"GET /static/css/nicepage.css HTTP/1.1\" 304 -\n",
      "127.0.0.1 - - [12/Sep/2021 14:56:09] \"GET /static/css/Page-1.css HTTP/1.1\" 304 -\n",
      "127.0.0.1 - - [12/Sep/2021 14:56:10] \"GET /static/images/desktop_top-banner.png HTTP/1.1\" 304 -\n",
      "127.0.0.1 - - [12/Sep/2021 14:56:10] \"GET /static/images/banner-bg.png HTTP/1.1\" 304 -\n",
      "127.0.0.1 - - [12/Sep/2021 14:56:10] \"GET /static/images/images-removebg-preview.ico HTTP/1.1\" 200 -\n"
     ]
    }
   ],
   "source": [
    "TEMPLATE = 'templates'\n",
    "STATIC = 'static'\n",
    "\n",
    "app = Flask(__name__,template_folder=TEMPLATE,static_folder=STATIC)\n",
    "run_with_ngrok(app)\n",
    "input_text = ''\n",
    "@app.route('/')\n",
    "def index():\n",
    "    return render_template('form.html')\n",
    "@app.route('/submit', methods=['POST'])\n",
    "def submit():\n",
    "    input_text = request.form['text']\n",
    "    if len(input_text) < 100:\n",
    "        vis2 = 1\n",
    "        s = 'Unable to send your message. Please fix errors then try again.'\n",
    "        return render_template('form.html',vis2=vis2,input_text=input_text,s = s)\n",
    "    elif len(input_text) > 100:\n",
    "        vis1 = 1\n",
    "        predicts = Do_all(input_text,word2idx['<pad>'])\n",
    "        print(predicts)\n",
    "        if predicts == '':\n",
    "            predicts = '系統暫時未判讀出違規事宜'\n",
    "        return render_template('form.html',vis1=vis1,input_text=input_text,s = predicts)\n",
    "\n",
    "if __name__ == \"__main__\":\n",
    "    app.run()"
   ]
  },
  {
   "cell_type": "code",
   "execution_count": null,
   "id": "fifteen-democracy",
   "metadata": {},
   "outputs": [],
   "source": []
  }
 ],
 "metadata": {
  "kernelspec": {
   "display_name": "Python 3",
   "language": "python",
   "name": "python3"
  },
  "language_info": {
   "codemirror_mode": {
    "name": "ipython",
    "version": 3
   },
   "file_extension": ".py",
   "mimetype": "text/x-python",
   "name": "python",
   "nbconvert_exporter": "python",
   "pygments_lexer": "ipython3",
   "version": "3.8.5"
  }
 },
 "nbformat": 4,
 "nbformat_minor": 5
}
